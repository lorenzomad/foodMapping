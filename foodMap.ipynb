{
  "cells": [
    {
      "cell_type": "code",
      "execution_count": null,
      "metadata": {
        "id": "SrSQqPb1vKmI"
      },
      "outputs": [],
      "source": [
        "import pandas as pd\n",
        "import numpy as np\n",
        "\n",
        "import matplotlib.pyplot as plt\n"
      ]
    },
    {
      "cell_type": "code",
      "execution_count": null,
      "metadata": {
        "id": "ZoFOX4CnvKmM"
      },
      "outputs": [],
      "source": [
        "recipe_path = \"data/RAW_recipes.csv\"\n",
        "\n",
        "recipes_df = pd.read_csv(recipe_path, index_col=\"id\")"
      ]
    },
    {
      "cell_type": "code",
      "execution_count": null,
      "metadata": {
        "id": "JqpUrHvXvKmN",
        "outputId": "d2d6b6a4-1bc1-4ca2-b30f-4c57dbf2738f"
      },
      "outputs": [
        {
          "data": {
            "text/html": [
              "<div>\n",
              "<style scoped>\n",
              "    .dataframe tbody tr th:only-of-type {\n",
              "        vertical-align: middle;\n",
              "    }\n",
              "\n",
              "    .dataframe tbody tr th {\n",
              "        vertical-align: top;\n",
              "    }\n",
              "\n",
              "    .dataframe thead th {\n",
              "        text-align: right;\n",
              "    }\n",
              "</style>\n",
              "<table border=\"1\" class=\"dataframe\">\n",
              "  <thead>\n",
              "    <tr style=\"text-align: right;\">\n",
              "      <th></th>\n",
              "      <th>name</th>\n",
              "      <th>minutes</th>\n",
              "      <th>contributor_id</th>\n",
              "      <th>submitted</th>\n",
              "      <th>tags</th>\n",
              "      <th>nutrition</th>\n",
              "      <th>n_steps</th>\n",
              "      <th>steps</th>\n",
              "      <th>description</th>\n",
              "      <th>ingredients</th>\n",
              "      <th>n_ingredients</th>\n",
              "    </tr>\n",
              "    <tr>\n",
              "      <th>id</th>\n",
              "      <th></th>\n",
              "      <th></th>\n",
              "      <th></th>\n",
              "      <th></th>\n",
              "      <th></th>\n",
              "      <th></th>\n",
              "      <th></th>\n",
              "      <th></th>\n",
              "      <th></th>\n",
              "      <th></th>\n",
              "      <th></th>\n",
              "    </tr>\n",
              "  </thead>\n",
              "  <tbody>\n",
              "    <tr>\n",
              "      <th>137739</th>\n",
              "      <td>arriba   baked winter squash mexican style</td>\n",
              "      <td>55</td>\n",
              "      <td>47892</td>\n",
              "      <td>2005-09-16</td>\n",
              "      <td>['60-minutes-or-less', 'time-to-make', 'course...</td>\n",
              "      <td>[51.5, 0.0, 13.0, 0.0, 2.0, 0.0, 4.0]</td>\n",
              "      <td>11</td>\n",
              "      <td>['make a choice and proceed with recipe', 'dep...</td>\n",
              "      <td>autumn is my favorite time of year to cook! th...</td>\n",
              "      <td>['winter squash', 'mexican seasoning', 'mixed ...</td>\n",
              "      <td>7</td>\n",
              "    </tr>\n",
              "    <tr>\n",
              "      <th>31490</th>\n",
              "      <td>a bit different  breakfast pizza</td>\n",
              "      <td>30</td>\n",
              "      <td>26278</td>\n",
              "      <td>2002-06-17</td>\n",
              "      <td>['30-minutes-or-less', 'time-to-make', 'course...</td>\n",
              "      <td>[173.4, 18.0, 0.0, 17.0, 22.0, 35.0, 1.0]</td>\n",
              "      <td>9</td>\n",
              "      <td>['preheat oven to 425 degrees f', 'press dough...</td>\n",
              "      <td>this recipe calls for the crust to be prebaked...</td>\n",
              "      <td>['prepared pizza crust', 'sausage patty', 'egg...</td>\n",
              "      <td>6</td>\n",
              "    </tr>\n",
              "    <tr>\n",
              "      <th>112140</th>\n",
              "      <td>all in the kitchen  chili</td>\n",
              "      <td>130</td>\n",
              "      <td>196586</td>\n",
              "      <td>2005-02-25</td>\n",
              "      <td>['time-to-make', 'course', 'preparation', 'mai...</td>\n",
              "      <td>[269.8, 22.0, 32.0, 48.0, 39.0, 27.0, 5.0]</td>\n",
              "      <td>6</td>\n",
              "      <td>['brown ground beef in large pot', 'add choppe...</td>\n",
              "      <td>this modified version of 'mom's' chili was a h...</td>\n",
              "      <td>['ground beef', 'yellow onions', 'diced tomato...</td>\n",
              "      <td>13</td>\n",
              "    </tr>\n",
              "    <tr>\n",
              "      <th>59389</th>\n",
              "      <td>alouette  potatoes</td>\n",
              "      <td>45</td>\n",
              "      <td>68585</td>\n",
              "      <td>2003-04-14</td>\n",
              "      <td>['60-minutes-or-less', 'time-to-make', 'course...</td>\n",
              "      <td>[368.1, 17.0, 10.0, 2.0, 14.0, 8.0, 20.0]</td>\n",
              "      <td>11</td>\n",
              "      <td>['place potatoes in a large pot of lightly sal...</td>\n",
              "      <td>this is a super easy, great tasting, make ahea...</td>\n",
              "      <td>['spreadable cheese with garlic and herbs', 'n...</td>\n",
              "      <td>11</td>\n",
              "    </tr>\n",
              "    <tr>\n",
              "      <th>44061</th>\n",
              "      <td>amish  tomato ketchup  for canning</td>\n",
              "      <td>190</td>\n",
              "      <td>41706</td>\n",
              "      <td>2002-10-25</td>\n",
              "      <td>['weeknight', 'time-to-make', 'course', 'main-...</td>\n",
              "      <td>[352.9, 1.0, 337.0, 23.0, 3.0, 0.0, 28.0]</td>\n",
              "      <td>5</td>\n",
              "      <td>['mix all ingredients&amp; boil for 2 1 / 2 hours ...</td>\n",
              "      <td>my dh's amish mother raised him on this recipe...</td>\n",
              "      <td>['tomato juice', 'apple cider vinegar', 'sugar...</td>\n",
              "      <td>8</td>\n",
              "    </tr>\n",
              "  </tbody>\n",
              "</table>\n",
              "</div>"
            ],
            "text/plain": [
              "                                              name  minutes  contributor_id   \n",
              "id                                                                            \n",
              "137739  arriba   baked winter squash mexican style       55           47892  \\\n",
              "31490             a bit different  breakfast pizza       30           26278   \n",
              "112140                   all in the kitchen  chili      130          196586   \n",
              "59389                           alouette  potatoes       45           68585   \n",
              "44061           amish  tomato ketchup  for canning      190           41706   \n",
              "\n",
              "         submitted                                               tags   \n",
              "id                                                                      \n",
              "137739  2005-09-16  ['60-minutes-or-less', 'time-to-make', 'course...  \\\n",
              "31490   2002-06-17  ['30-minutes-or-less', 'time-to-make', 'course...   \n",
              "112140  2005-02-25  ['time-to-make', 'course', 'preparation', 'mai...   \n",
              "59389   2003-04-14  ['60-minutes-or-less', 'time-to-make', 'course...   \n",
              "44061   2002-10-25  ['weeknight', 'time-to-make', 'course', 'main-...   \n",
              "\n",
              "                                         nutrition  n_steps   \n",
              "id                                                            \n",
              "137739       [51.5, 0.0, 13.0, 0.0, 2.0, 0.0, 4.0]       11  \\\n",
              "31490    [173.4, 18.0, 0.0, 17.0, 22.0, 35.0, 1.0]        9   \n",
              "112140  [269.8, 22.0, 32.0, 48.0, 39.0, 27.0, 5.0]        6   \n",
              "59389    [368.1, 17.0, 10.0, 2.0, 14.0, 8.0, 20.0]       11   \n",
              "44061    [352.9, 1.0, 337.0, 23.0, 3.0, 0.0, 28.0]        5   \n",
              "\n",
              "                                                    steps   \n",
              "id                                                          \n",
              "137739  ['make a choice and proceed with recipe', 'dep...  \\\n",
              "31490   ['preheat oven to 425 degrees f', 'press dough...   \n",
              "112140  ['brown ground beef in large pot', 'add choppe...   \n",
              "59389   ['place potatoes in a large pot of lightly sal...   \n",
              "44061   ['mix all ingredients& boil for 2 1 / 2 hours ...   \n",
              "\n",
              "                                              description   \n",
              "id                                                          \n",
              "137739  autumn is my favorite time of year to cook! th...  \\\n",
              "31490   this recipe calls for the crust to be prebaked...   \n",
              "112140  this modified version of 'mom's' chili was a h...   \n",
              "59389   this is a super easy, great tasting, make ahea...   \n",
              "44061   my dh's amish mother raised him on this recipe...   \n",
              "\n",
              "                                              ingredients  n_ingredients  \n",
              "id                                                                        \n",
              "137739  ['winter squash', 'mexican seasoning', 'mixed ...              7  \n",
              "31490   ['prepared pizza crust', 'sausage patty', 'egg...              6  \n",
              "112140  ['ground beef', 'yellow onions', 'diced tomato...             13  \n",
              "59389   ['spreadable cheese with garlic and herbs', 'n...             11  \n",
              "44061   ['tomato juice', 'apple cider vinegar', 'sugar...              8  "
            ]
          },
          "execution_count": 3,
          "metadata": {},
          "output_type": "execute_result"
        }
      ],
      "source": [
        "recipes_df.head()"
      ]
    },
    {
      "cell_type": "markdown",
      "metadata": {
        "id": "t7MOuvebvKmQ"
      },
      "source": [
        "Let's create the starting dataframe with only the relevant characteristics"
      ]
    },
    {
      "cell_type": "code",
      "execution_count": null,
      "metadata": {
        "id": "uilLr9BivKmS",
        "outputId": "d119eee4-b7c5-44bd-9f1e-819fcc53ade2"
      },
      "outputs": [
        {
          "data": {
            "text/html": [
              "<div>\n",
              "<style scoped>\n",
              "    .dataframe tbody tr th:only-of-type {\n",
              "        vertical-align: middle;\n",
              "    }\n",
              "\n",
              "    .dataframe tbody tr th {\n",
              "        vertical-align: top;\n",
              "    }\n",
              "\n",
              "    .dataframe thead th {\n",
              "        text-align: right;\n",
              "    }\n",
              "</style>\n",
              "<table border=\"1\" class=\"dataframe\">\n",
              "  <thead>\n",
              "    <tr style=\"text-align: right;\">\n",
              "      <th></th>\n",
              "      <th>name</th>\n",
              "      <th>ingredients</th>\n",
              "    </tr>\n",
              "    <tr>\n",
              "      <th>id</th>\n",
              "      <th></th>\n",
              "      <th></th>\n",
              "    </tr>\n",
              "  </thead>\n",
              "  <tbody>\n",
              "    <tr>\n",
              "      <th>38</th>\n",
              "      <td>low fat berry blue frozen dessert</td>\n",
              "      <td>['blueberries', 'granulated sugar', 'vanilla y...</td>\n",
              "    </tr>\n",
              "    <tr>\n",
              "      <th>39</th>\n",
              "      <td>biryani</td>\n",
              "      <td>['saffron', 'milk', 'hot green chili peppers',...</td>\n",
              "    </tr>\n",
              "    <tr>\n",
              "      <th>40</th>\n",
              "      <td>best lemonade</td>\n",
              "      <td>['sugar', 'lemons, rind of', 'fresh water', 'f...</td>\n",
              "    </tr>\n",
              "    <tr>\n",
              "      <th>41</th>\n",
              "      <td>carina s tofu vegetable kebabs</td>\n",
              "      <td>['extra firm tofu', 'eggplant', 'zucchini', 'r...</td>\n",
              "    </tr>\n",
              "    <tr>\n",
              "      <th>43</th>\n",
              "      <td>best blackbottom pie</td>\n",
              "      <td>['graham cracker crumbs', 'sugar', 'butter', '...</td>\n",
              "    </tr>\n",
              "  </tbody>\n",
              "</table>\n",
              "</div>"
            ],
            "text/plain": [
              "                                 name   \n",
              "id                                      \n",
              "38  low fat berry blue frozen dessert  \\\n",
              "39                            biryani   \n",
              "40                      best lemonade   \n",
              "41     carina s tofu vegetable kebabs   \n",
              "43               best blackbottom pie   \n",
              "\n",
              "                                          ingredients  \n",
              "id                                                     \n",
              "38  ['blueberries', 'granulated sugar', 'vanilla y...  \n",
              "39  ['saffron', 'milk', 'hot green chili peppers',...  \n",
              "40  ['sugar', 'lemons, rind of', 'fresh water', 'f...  \n",
              "41  ['extra firm tofu', 'eggplant', 'zucchini', 'r...  \n",
              "43  ['graham cracker crumbs', 'sugar', 'butter', '...  "
            ]
          },
          "execution_count": 4,
          "metadata": {},
          "output_type": "execute_result"
        }
      ],
      "source": [
        "recipes_short = recipes_df[[\"name\", \"ingredients\"]].sort_values(\"id\")\n",
        "recipes_short.head()"
      ]
    },
    {
      "cell_type": "markdown",
      "metadata": {
        "id": "Gt8pxfjDvKmT"
      },
      "source": [
        "Now we want to work on the df to extract all the ingredient names\n",
        "1) convert the items to lists"
      ]
    },
    {
      "cell_type": "code",
      "execution_count": null,
      "metadata": {
        "id": "YgyYzmPCvKmT",
        "outputId": "53dfbcb2-0e4c-4b0d-c373-84aff47f3c40"
      },
      "outputs": [
        {
          "data": {
            "text/html": [
              "<div>\n",
              "<style scoped>\n",
              "    .dataframe tbody tr th:only-of-type {\n",
              "        vertical-align: middle;\n",
              "    }\n",
              "\n",
              "    .dataframe tbody tr th {\n",
              "        vertical-align: top;\n",
              "    }\n",
              "\n",
              "    .dataframe thead th {\n",
              "        text-align: right;\n",
              "    }\n",
              "</style>\n",
              "<table border=\"1\" class=\"dataframe\">\n",
              "  <thead>\n",
              "    <tr style=\"text-align: right;\">\n",
              "      <th></th>\n",
              "      <th>name</th>\n",
              "      <th>ingredients</th>\n",
              "    </tr>\n",
              "    <tr>\n",
              "      <th>id</th>\n",
              "      <th></th>\n",
              "      <th></th>\n",
              "    </tr>\n",
              "  </thead>\n",
              "  <tbody>\n",
              "    <tr>\n",
              "      <th>38</th>\n",
              "      <td>low fat berry blue frozen dessert</td>\n",
              "      <td>[blueberries, granulated sugar, vanilla yogurt...</td>\n",
              "    </tr>\n",
              "    <tr>\n",
              "      <th>39</th>\n",
              "      <td>biryani</td>\n",
              "      <td>[saffron, milk, hot green chili peppers, onion...</td>\n",
              "    </tr>\n",
              "    <tr>\n",
              "      <th>40</th>\n",
              "      <td>best lemonade</td>\n",
              "      <td>[sugar, lemons, rind of, fresh water, fresh le...</td>\n",
              "    </tr>\n",
              "    <tr>\n",
              "      <th>41</th>\n",
              "      <td>carina s tofu vegetable kebabs</td>\n",
              "      <td>[extra firm tofu, eggplant, zucchini, red pepp...</td>\n",
              "    </tr>\n",
              "    <tr>\n",
              "      <th>43</th>\n",
              "      <td>best blackbottom pie</td>\n",
              "      <td>[graham cracker crumbs, sugar, butter, cornsta...</td>\n",
              "    </tr>\n",
              "  </tbody>\n",
              "</table>\n",
              "</div>"
            ],
            "text/plain": [
              "                                 name   \n",
              "id                                      \n",
              "38  low fat berry blue frozen dessert  \\\n",
              "39                            biryani   \n",
              "40                      best lemonade   \n",
              "41     carina s tofu vegetable kebabs   \n",
              "43               best blackbottom pie   \n",
              "\n",
              "                                          ingredients  \n",
              "id                                                     \n",
              "38  [blueberries, granulated sugar, vanilla yogurt...  \n",
              "39  [saffron, milk, hot green chili peppers, onion...  \n",
              "40  [sugar, lemons, rind of, fresh water, fresh le...  \n",
              "41  [extra firm tofu, eggplant, zucchini, red pepp...  \n",
              "43  [graham cracker crumbs, sugar, butter, cornsta...  "
            ]
          },
          "execution_count": 5,
          "metadata": {},
          "output_type": "execute_result"
        }
      ],
      "source": [
        "recipes_short[\"ingredients\"] = recipes_short[\"ingredients\"].apply(eval)\n",
        "recipes_short.head()"
      ]
    },
    {
      "cell_type": "markdown",
      "metadata": {
        "id": "60k5TMMrvKmZ"
      },
      "source": [
        "Now we can count how many elements are there for each ingredient and apply other actions"
      ]
    },
    {
      "cell_type": "code",
      "execution_count": null,
      "metadata": {
        "id": "7V8wNnWAvKmb",
        "outputId": "b31f07f9-d51d-4c0e-c6fb-de8f98c90cb3"
      },
      "outputs": [
        {
          "data": {
            "text/plain": [
              "ingredients\n",
              "salt                               85746\n",
              "butter                             54975\n",
              "sugar                              44535\n",
              "onion                              39065\n",
              "water                              34914\n",
              "                                   ...  \n",
              "spanish rice and vermicelli mix        1\n",
              "fruit bits                             1\n",
              "passover wine                          1\n",
              "smoked trout fillet                    1\n",
              "gummy ring                             1\n",
              "Name: count, Length: 14942, dtype: int64"
            ]
          },
          "execution_count": 6,
          "metadata": {},
          "output_type": "execute_result"
        }
      ],
      "source": [
        "recipes_short[\"ingredients\"].explode().value_counts()"
      ]
    },
    {
      "cell_type": "markdown",
      "metadata": {
        "id": "SwG0RLO4vKmd"
      },
      "source": [
        "Let's try to plot the top 20 used ingredients now"
      ]
    },
    {
      "cell_type": "code",
      "execution_count": null,
      "metadata": {
        "id": "z2T6O8-vvKmd",
        "outputId": "491cf8ea-e8e4-485c-83a5-50bba90dada4"
      },
      "outputs": [
        {
          "data": {
            "text/plain": [
              "Text(0.5, 1.0, 'Ingredients used in recipes')"
            ]
          },
          "execution_count": 7,
          "metadata": {},
          "output_type": "execute_result"
        },
        {
          "data": {
            "image/png": "[encoded data removed]",
            "text/plain": [
              "<Figure size 1400x400 with 1 Axes>"
            ]
          },
          "metadata": {},
          "output_type": "display_data"
        }
      ],
      "source": [
        "# Get unique items & counts\n",
        "unique_values = recipes_short[\"ingredients\"].explode().value_counts().index.tolist()\n",
        "unique_value_counts = recipes_short[\"ingredients\"].explode().value_counts().values\n",
        "# Create plot\n",
        "fig, ax = plt.subplots(figsize = (14,4))\n",
        "ax.bar(unique_values[:20], unique_value_counts[:20])\n",
        "ax.set_ylabel(\"Frequency\", size = 12)\n",
        "ax.set_title(\"Ingredients used in recipes\", size = 14)"
      ]
    },
    {
      "cell_type": "markdown",
      "metadata": {
        "id": "j4CUTIOCvKmf"
      },
      "source": [
        "to get much further in terms of our analysis the best thing we can do now is to explode in our initial dataframe the ingredients column into *n* columns where n is the number of ingredients and the corresponding value will be 1 if the recipe has the specific ingredient"
      ]
    },
    {
      "cell_type": "code",
      "execution_count": null,
      "metadata": {
        "id": "Vl1_e4oHvKmf",
        "outputId": "ccc73783-a2e3-4302-a08f-7747f2e507d2"
      },
      "outputs": [
        {
          "ename": "",
          "evalue": "",
          "output_type": "error",
          "traceback": [
            "\u001b[1;31mCannot execute code, session has been disposed. Please try restarting the Kernel."
          ]
        },
        {
          "ename": "",
          "evalue": "",
          "output_type": "error",
          "traceback": [
            "\u001b[1;31mThe Kernel crashed while executing code in the the current cell or a previous cell. Please review the code in the cell(s) to identify a possible cause of the failure. Click <a href='https://aka.ms/vscodeJupyterKernelCrash'>here</a> for more info. View Jupyter <a href='command:jupyter.viewOutput'>log</a> for further details."
          ]
        }
      ],
      "source": [
        "def boolean_df(item_lists, unique_items):\n",
        "# Create empty dict\n",
        "    bool_dict = {}\n",
        "\n",
        "    # Loop through all the tags\n",
        "    for i, item in enumerate(unique_items):\n",
        "\n",
        "        # Apply boolean mask\n",
        "        bool_dict[item] = item_lists.apply(lambda x: item in x)\n",
        "\n",
        "    # Return the results as a dataframe\n",
        "    return pd.DataFrame(bool_dict)\n",
        "\n",
        "recipes_bool = boolean_df(\n",
        "  item_lists = recipes_short[\"ingredients\"],\n",
        "  unique_items = unique_values\n",
        ")"
      ]
    },
    {
      "cell_type": "code",
      "execution_count": null,
      "metadata": {
        "id": "k_YpTX9vvKmh"
      },
      "outputs": [],
      "source": []
    }
  ],
  "metadata": {
    "kernelspec": {
      "display_name": "Python 3",
      "language": "python",
      "name": "python3"
    },
    "language_info": {
      "codemirror_mode": {
        "name": "ipython",
        "version": 3
      },
      "file_extension": ".py",
      "mimetype": "text/x-python",
      "name": "python",
      "nbconvert_exporter": "python",
      "pygments_lexer": "ipython3",
      "version": "3.10.4"
    },
    "orig_nbformat": 4,
    "colab": {
      "provenance": []
    }
  },
  "nbformat": 4,
  "nbformat_minor": 0
}